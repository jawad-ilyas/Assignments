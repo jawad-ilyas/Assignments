{
 "cells": [
  {
   "cell_type": "markdown",
   "metadata": {},
   "source": [
    "# Question1:"
   ]
  },
  {
   "cell_type": "markdown",
   "metadata": {},
   "source": [
    "## Solution"
   ]
  },
  {
   "cell_type": "code",
   "execution_count": 20,
   "metadata": {},
   "outputs": [
    {
     "name": "stdout",
     "output_type": "stream",
     "text": [
      "Asif\n",
      "Khan\n",
      "32\n",
      "high academic level\n",
      "Updated dictionary is:  {'first_name': 'Asif', 'last_name': 'Khan', 'age': 32, 'qualification': 'high academic level'}\n",
      "After deleting qualification:  {'first_name': 'Asif', 'last_name': 'Khan', 'age': 32}\n"
     ]
    }
   ],
   "source": [
    "person = {\"first_name\":\"Asif\",\n",
    "          \"last_name\":\"Khan\",\n",
    "          \"age\":32}\n",
    "name = person[\"first_name\"]\n",
    "last_name = person[\"last_name\"]\n",
    "age = person[\"age\"]\n",
    "print(name)\n",
    "print(last_name)\n",
    "print(age)\n",
    "person[\"qualification\"]=\"high academic level\"\n",
    "print(person[\"qualification\"])\n",
    "print(\"Updated dictionary is: \",person)\n",
    "# delete qualification\n",
    "del person[\"qualification\"]\n",
    "print(\"After deleting qualification: \", person)"
   ]
  },
  {
   "cell_type": "markdown",
   "metadata": {},
   "source": [
    "# Question2:"
   ]
  },
  {
   "cell_type": "markdown",
   "metadata": {},
   "source": [
    "## Sloution"
   ]
  },
  {
   "cell_type": "code",
   "execution_count": 6,
   "metadata": {},
   "outputs": [
    {
     "name": "stdout",
     "output_type": "stream",
     "text": [
      "\n",
      "Karachi is in Pakistan.\n",
      " It has a population of about 18891076.\n",
      " The fact is, It Is The Largest City Of Pakistan.\n",
      "\n",
      "Ulaanbaatar is in Mogolia.\n",
      " It has a population of about 1372000.\n",
      " The fact is, It Is The Coldest Capital In The World.\n",
      "\n",
      "Berlin is in Germany.\n",
      " It has a population of about 3450889.\n",
      " The fact is, It Was The Firt Place In Europe To Have Traffic Lights.\n"
     ]
    }
   ],
   "source": [
    "cities = {\n",
    "    'karachi': {\n",
    "        'country': 'Pakistan',\n",
    "        'population': 18891076,\n",
    "        'fact': 'it is the largest city of Pakistan',\n",
    "        },\n",
    "    'ulaanbaatar': {\n",
    "        'country': 'mogolia',\n",
    "        'population': 1372000,\n",
    "        'fact': 'it is the coldest capital in the world',\n",
    "        },\n",
    "    'berlin': {\n",
    "        'country': 'germany',\n",
    "        'population': 3450889,\n",
    "        'fact': 'it was the firt place in Europe to have traffic lights',\n",
    "        }\n",
    "    }\n",
    "\n",
    "for city, city_info in cities.items():\n",
    "    country = city_info['country'].title()\n",
    "    population = city_info['population']\n",
    "    fact= city_info['fact'].title()\n",
    "\n",
    "    print(\"\\n\" + city.title() + \" is in \" + country + \".\")\n",
    "    print(\" It has a population of about \" + str(population) + \".\")\n",
    "    print(\" The fact is, \"+ fact + \".\")"
   ]
  },
  {
   "cell_type": "markdown",
   "metadata": {},
   "source": [
    "# Question3:"
   ]
  },
  {
   "cell_type": "markdown",
   "metadata": {},
   "source": [
    "## Solution"
   ]
  },
  {
   "cell_type": "code",
   "execution_count": 12,
   "metadata": {
    "scrolled": true
   },
   "outputs": [
    {
     "name": "stdout",
     "output_type": "stream",
     "text": [
      "How old are you?\n",
      "Enter 'Quit' to quit 3\n",
      "  Your ticket is $10.\n",
      "How old are you?\n",
      "Enter 'Quit' to quit 2\n",
      "  You get in free!\n",
      "How old are you?\n",
      "Enter 'Quit' to quit 13\n",
      "  Your ticket is $15.\n",
      "How old are you?\n",
      "Enter 'Quit' to quit Quit\n"
     ]
    }
   ],
   "source": [
    "cust_age = \"How old are you?\"\n",
    "cust_age += \"\\nEnter 'Quit' to quit \"\n",
    "\n",
    "while True:\n",
    "    age = input(cust_age)\n",
    "    if age == 'quit'.title():\n",
    "        break\n",
    "    age = int(age)\n",
    "\n",
    "    if age < 3:\n",
    "        print(\"  You get in free!\")\n",
    "    elif age < 12:\n",
    "        print(\"  Your ticket is $10.\")\n",
    "    else:\n",
    "        print(\"  Your ticket is $15.\")"
   ]
  },
  {
   "cell_type": "markdown",
   "metadata": {},
   "source": [
    "# Question4:"
   ]
  },
  {
   "cell_type": "markdown",
   "metadata": {},
   "source": [
    "## Solution"
   ]
  },
  {
   "cell_type": "code",
   "execution_count": 20,
   "metadata": {},
   "outputs": [
    {
     "name": "stdout",
     "output_type": "stream",
     "text": [
      "Alice In Wonderland is one of my favorite books.\n"
     ]
    }
   ],
   "source": [
    "def favorite_book(title):\n",
    "    print(title.title()+ \" is one of my favorite books.\")\n",
    "\n",
    "favorite_book('alice in wonderland')"
   ]
  },
  {
   "cell_type": "markdown",
   "metadata": {},
   "source": [
    "# Question5"
   ]
  },
  {
   "cell_type": "markdown",
   "metadata": {},
   "source": [
    "## Solution"
   ]
  },
  {
   "cell_type": "code",
   "execution_count": 36,
   "metadata": {},
   "outputs": [
    {
     "name": "stdout",
     "output_type": "stream",
     "text": [
      "Hello! What is your name?\n",
      "Jawad\n",
      "Well, Jawad, I am thinking of a number between 1 and 30.\n",
      "Take a guess.\n",
      "25\n",
      "Your guess is too high.\n",
      "Take a guess.\n",
      "15\n",
      "Good job, Jawad! You guessed my number in 2 guesses!\n"
     ]
    }
   ],
   "source": [
    "import random\n",
    "guesses_taken = 0\n",
    "print('Hello! What is your name?')\n",
    "play_name = input()\n",
    "number = random.randint(1, 30)\n",
    "print('Well, ' + play_name + ', I am thinking of a number between 1 and 30.')\n",
    "while guesses_taken < 3:\n",
    "    print('Take a guess.') \n",
    "    guess = input()\n",
    "    guess = int(guess)\n",
    "    guesses_taken = guesses_taken + 1\n",
    "    if guess < number:\n",
    "        print('Your guess is too low.') \n",
    "    if guess > number:\n",
    "        print('Your guess is too high.')\n",
    "    if guess == number:\n",
    "        break\n",
    "if guess == number:\n",
    "    guessesTaken = str(guesses_taken)\n",
    "    print('Good job, ' + play_name + '! You guessed my number in ' + guessesTaken + ' guesses!')\n",
    "if guess != number:\n",
    "    number = str(number)\n",
    "    print('You Failed The number I was thinking of was ' + number)"
   ]
  },
  {
   "cell_type": "code",
   "execution_count": null,
   "metadata": {},
   "outputs": [],
   "source": []
  },
  {
   "cell_type": "code",
   "execution_count": null,
   "metadata": {},
   "outputs": [],
   "source": []
  }
 ],
 "metadata": {
  "kernelspec": {
   "display_name": "Python 3",
   "language": "python",
   "name": "python3"
  },
  "language_info": {
   "codemirror_mode": {
    "name": "ipython",
    "version": 3
   },
   "file_extension": ".py",
   "mimetype": "text/x-python",
   "name": "python",
   "nbconvert_exporter": "python",
   "pygments_lexer": "ipython3",
   "version": "3.7.2"
  }
 },
 "nbformat": 4,
 "nbformat_minor": 2
}
