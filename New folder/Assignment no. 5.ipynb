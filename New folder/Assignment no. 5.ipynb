{
 "cells": [
  {
   "cell_type": "markdown",
   "metadata": {},
   "source": [
    "# Question 1:\n",
    "## Write a Python function to calculate the factorial of a number (a non-negative integer). The function accepts the number as an argument."
   ]
  },
  {
   "cell_type": "code",
   "execution_count": 7,
   "metadata": {},
   "outputs": [
    {
     "name": "stdout",
     "output_type": "stream",
     "text": [
      "Input a number to compute the factiorial : 5\n",
      " The factorial of  5 is: 120\n"
     ]
    }
   ],
   "source": [
    "def factorial(f):\n",
    "    if f == 0:\n",
    "        return 1\n",
    "    else:\n",
    "        return f * factorial(f-1)\n",
    "f=int(input(\"Input a number to compute the factiorial : \"))\n",
    "print(\" The factorial of \",f ,\"is:\",factorial(f))\n"
   ]
  },
  {
   "cell_type": "markdown",
   "metadata": {},
   "source": [
    "# Question 2:\n",
    "## Write a Python function that accepts a string and calculate the number of uppercase letters and lower case letters."
   ]
  },
  {
   "cell_type": "code",
   "execution_count": 11,
   "metadata": {},
   "outputs": [
    {
     "name": "stdout",
     "output_type": "stream",
     "text": [
      "Number of Upper case characters : 3 , No. of Lower case characters : 18\n"
     ]
    }
   ],
   "source": [
    "def upp_lowe(u):      \n",
    "    upp = sum(1 for i in u if i.isupper())\n",
    "    lowe = sum(1 for i in u if i.islower())\n",
    "    print(\"Number of Upper case characters : %u , No. of Lower case characters : %u\" % (upp,lowe))\n",
    "\n",
    "upp_lowe(\"Hello Boy, What's your name?\") "
   ]
  },
  {
   "cell_type": "markdown",
   "metadata": {},
   "source": [
    "# Question 3:\n",
    "## Write a Python function to print the even numbers from a given list."
   ]
  },
  {
   "cell_type": "code",
   "execution_count": 6,
   "metadata": {},
   "outputs": [
    {
     "name": "stdout",
     "output_type": "stream",
     "text": [
      "Even numbers in the list:  [10, 40]\n"
     ]
    }
   ],
   "source": [
    "list1 = [1,5,7,10,40]\n",
    "\n",
    "eve_no = list(filter(lambda x: (x % 2 == 0), list1)) \n",
    "\n",
    "  \n",
    "\n",
    "print(\"Even numbers in the list: \", eve_no) "
   ]
  },
  {
   "cell_type": "markdown",
   "metadata": {},
   "source": [
    "# Question 4:\n",
    "## Write a Python function that checks whether a passed string is palindrome or not.Note: A palindrome is a word, phrase, or sequence that reads the same backward as forward, e.g., madam"
   ]
  },
  {
   "cell_type": "code",
   "execution_count": 19,
   "metadata": {},
   "outputs": [
    {
     "name": "stdout",
     "output_type": "stream",
     "text": [
      "Civic is Palindrome\n"
     ]
    }
   ],
   "source": [
    "x = \"civic\"\n",
    "\n",
    "w = \"\" \n",
    "\n",
    "for i in x: \n",
    "    w = i + w\n",
    "if (x==w): \n",
    "    print(x.title(),\"is Palindrome\") \n"
   ]
  },
  {
   "cell_type": "markdown",
   "metadata": {},
   "source": [
    "# Question 5:\n",
    "## Write a Python function that takes a number as a parameter and check the number is prime or not."
   ]
  },
  {
   "cell_type": "code",
   "execution_count": 34,
   "metadata": {},
   "outputs": [
    {
     "name": "stdout",
     "output_type": "stream",
     "text": [
      "Enter any number: 6\n",
      "6 is not a prime number\n"
     ]
    }
   ],
   "source": [
    "number = int(input(\"Enter any number: \"))\n",
    "if number > 1:\n",
    "    for i in range(2, number):\n",
    "        if (number % i) == 0:\n",
    "            print(number, \"is not a prime number\")\n",
    "            break\n",
    "    else:\n",
    "        print(number, \"is a prime number\")\n",
    "else:\n",
    "    print(number, \" is not a prime number \")"
   ]
  },
  {
   "cell_type": "markdown",
   "metadata": {},
   "source": [
    "# Question 6:\n",
    "## Suppose a customer is shopping in a market and you need to print all the items which user bought from market. Write a function which accepts the multiple arguments of user shopping list and print all the items which user bought from market.\n"
   ]
  },
  {
   "cell_type": "code",
   "execution_count": 5,
   "metadata": {},
   "outputs": [
    {
     "name": "stdout",
     "output_type": "stream",
     "text": [
      "1.ADD\n",
      "2.EXIT\n",
      "Enter your choice : 1\n",
      "Enter product name : tomato\n",
      "Enter quantity : 2\n",
      "Enter price of the product : 200\n",
      "1.ADD\n",
      "2.EXIT\n",
      "Enter your choice : 1\n",
      "Enter product name : potato\n",
      "Enter quantity : 1\n",
      "Enter price of the product : 40\n",
      "1.ADD\n",
      "2.EXIT\n",
      "Enter your choice : 1\n",
      "Enter product name : carrot\n",
      "Enter quantity : 2\n",
      "Enter price of the product : 100\n",
      "1.ADD\n",
      "2.EXIT\n",
      "Enter your choice : 1\n",
      "Enter product name : meat\n",
      "Enter quantity : 1\n",
      "Enter price of the product : 500\n",
      "1.ADD\n",
      "2.EXIT\n",
      "Enter your choice : 1\n",
      "Enter product name : rice\n",
      "Enter quantity : 5\n",
      "Enter price of the product : 550\n",
      "1.ADD\n",
      "2.EXIT\n",
      "Enter your choice : 2\n",
      "\n",
      "\n",
      "\n",
      "\t GROCERY LIST\n",
      "\n",
      "------------------------------------\n",
      "Product Name    Quantity   Price\n",
      "------------------------------------\n",
      "Tomato \t         2 kg\t   200.0\n",
      "Potato \t         1 kg\t   40.0\n",
      "Carrot \t         2 kg\t   100.0\n",
      "Meat \t         1 kg\t   500.0\n",
      "Rice \t         5 kg\t   550.0\n",
      "\n",
      "\n",
      "________________________________\n",
      "\t\tTotal=  Rs. 1390.0\n"
     ]
    }
   ],
   "source": [
    "a ={\"name\":[], \"quant\":[], \"price\":[]} \n",
    " \n",
    "b = list(a.values()) \n",
    " \n",
    "nam = b[0] \n",
    " \n",
    "quant = b[1] \n",
    " \n",
    "pric = b[2] \n",
    "\n",
    "while True: \n",
    "    try: \n",
    "        chek = int(input(\"1.ADD\\n2.EXIT\\nEnter your choice : \")) \n",
    "    except ValueError: \n",
    "        print(\"\\nERROR: Choose only digits from the given option\") \n",
    "        continue\n",
    "    else: \n",
    "\n",
    "        if chek == 1 :\n",
    "         \n",
    "            prod_nam = input(\"Enter product name : \")  \n",
    "            quantit = input(\"Enter quantity : \") \n",
    "            price = float(input(\"Enter price of the product : \")) \n",
    " \n",
    "            if prod_nam in nam: \n",
    "                      \n",
    "                    quant.remove(quant[ind]) \n",
    "\n",
    "                    pric.remove(pric[ind]) \n",
    "\n",
    "                    quant.insert(ind, quantit) \n",
    "\n",
    "                    pric.insert(ind, p) \n",
    "\n",
    "            else: \n",
    " \n",
    "                    nam.append(prod_nam) \n",
    "\n",
    " \n",
    "                    quant.append(quantit) \n",
    "\n",
    "                    pric.append(price) \n",
    "        else: \n",
    "            break\n",
    "\n",
    "print(\"\\n\\n\\n\\t GROCERY LIST\\n\")\n",
    "print(\"------------------------------------\")\n",
    "print(\"Product Name\",\"   Quantity\",\"  Price\")\n",
    "print(\"------------------------------------\")\n",
    "# print final grocery list \n",
    "for i in range(len(nam)): \n",
    "\tprint(nam[i].title(),\"\\t        \", quant[i],\"kg\\t  \", pric[i]) \n",
    "\n",
    "tot = sum(pric)\n",
    "print(\"\\n\\n________________________________\")\n",
    "print(\"\\t\\tTotal= \",\"Rs.\",tot)"
   ]
  },
  {
   "cell_type": "code",
   "execution_count": null,
   "metadata": {},
   "outputs": [],
   "source": []
  }
 ],
 "metadata": {
  "kernelspec": {
   "display_name": "Python 3",
   "language": "python",
   "name": "python3"
  },
  "language_info": {
   "codemirror_mode": {
    "name": "ipython",
    "version": 3
   },
   "file_extension": ".py",
   "mimetype": "text/x-python",
   "name": "python",
   "nbconvert_exporter": "python",
   "pygments_lexer": "ipython3",
   "version": "3.7.4"
  }
 },
 "nbformat": 4,
 "nbformat_minor": 2
}
