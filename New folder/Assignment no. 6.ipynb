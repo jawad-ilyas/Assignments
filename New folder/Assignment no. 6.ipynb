{
 "cells": [
  {
   "cell_type": "markdown",
   "metadata": {},
   "source": [
    "# Question 1:\n",
    "##  Define Object Oriented Programming Language?"
   ]
  },
  {
   "cell_type": "markdown",
   "metadata": {},
   "source": [
    "###                                    Object-Oriented Programming language(OOP)\n",
    "Object-oriented programming (OOP) is a programming paradigm based on the concept of \"objects\", which can contain data, in the form of fields (often known as attributes or properties), and code, in the form of procedures (often known as methods). A feature of objects is an object's procedures that can access and often modify the data fields of the object with which they are associated (objects have a notion of \"this\" or \"self\"). In OOP, computer programs are designed by making them out of objects that interact with one another. OOP languages are diverse, but the most popular ones are class-based, meaning that objects are instances of classes, which also determine their types.\n",
    "\n",
    "Many of the most widely used programming languages (such as C++, Java, Python, etc.) are multi-paradigm and they support object-oriented programming to a greater or lesser degree, typically in combination with imperative, procedural programming. Significant object-oriented languages include Java, C++, C#, Python, PHP, JavaScript, Ruby, Perl, Object Pascal, Objective-C, Dart, Swift, Scala, Common Lisp, MATLAB, and Smalltalk."
   ]
  },
  {
   "cell_type": "markdown",
   "metadata": {},
   "source": [
    "# Question 2:\n",
    "## List down the Benefits of OOP?"
   ]
  },
  {
   "cell_type": "markdown",
   "metadata": {},
   "source": [
    "### Advantages of Object-Oriented Programming (OOP)\n",
    "1. Real Word Entities – In OOP real world entities are used. Classes and objects can be made of the things that are real and exist in the world. Example of real-world entities are pen, chair, student, hospital, etc. these examples can be considered as classes and their attributes will be considered as their object. Let’s discuss other example in order to better understand the classes and objects. Suppose, we take a student as class, then objects will be student name, roll number, section, address, mobile number, email, etc.\n",
    "\n",
    "2. Code Reusability – Code reusability is one of the characteristics of object-oriented programming. The feature that explains this point is inheritance. In inheritance, the class and subclasses or parent and child classes can be derived and its data member and member functions can be used as such. This feature saves times and the user do not need to code again and again, if similar features or functionality is required. Long programs can be cut short and the lot of time can be saved.\n",
    "\n",
    "3. Easy Management – code management becomes very easy in the object-oriented programming. As all the code is divided into a number of elements it becomes easy to manage. For instance, the whole program can be termed as a class and even if it contains a number of functions are written or coded in it, their objects can be made. This makes it easy to manage the code, as later you can initialize the object variable and make the function call.\n",
    "\n",
    "4. Maintenance – Maintenance of code also becomes easy in object oriented programming. Because of easy management of the code maintenance also becomes easy. If the code is to be used by another programmer, still it will not create any ambiguity of correct guiding of coding is used.\n",
    "\n",
    "5. Abstraction – In abstraction, only the useful data is visible to the user and not the things that they are not required to see. Abstraction is also called as data hiding. In order for you to understand let’s take an example – when you make your email id or login into an email id, you can only type the login Id and password and view it. You do not know how or cannot see how the data is being verified and how it is being stored? The user is always not aware about where their id and password are going? In which database? What is criteria for checking it? etc. Hence, it is very beneficial practice to use this feature as it provides data security.\n",
    "\n",
    "6. Polymorphism – It is another feature of the object oriented programming. Polymorphism simply means that a function has many forms. Take example of your mother, she is one person but she has different roles to perform like being someone’s sister, wife, mother, aunt, employee, boos, etc. Similarly, even in the programming one function can be written, this function can be used in different forms depending on its arguments. It is called function overloading. Just like the functions even the operator can be overloaded. It is called operator overloading.\n"
   ]
  },
  {
   "cell_type": "markdown",
   "metadata": {},
   "source": [
    "# Question 3:\n",
    "## Differentiate between function and method?"
   ]
  },
  {
   "cell_type": "markdown",
   "metadata": {},
   "source": [
    "### Difference between Method and Function in Python\n",
    "Key differences between Method and Function in Python are following.\n",
    "####                                      Python Method\n",
    "1. Method is called by its name, but it is associated to an object (dependent).\n",
    "2. A method is implicitly passed the object on which it is invoked.\n",
    "3. It may or may not return any data.\n",
    "4. A method can operate on the data (instance variables) that is contained by the corresponding class\n",
    "\n",
    "####                                     Functions\n",
    "1. Function is block of code that is also called by its name. (independent)\n",
    "2. The function can have different parameters or may not have any at all. If any data (parameters) are passed, they are passed explicitly.\n",
    "3. It may or may not return any data.\n",
    "4. Function does not deal with Class and its instance concept.\n",
    "\n",
    "\n"
   ]
  },
  {
   "cell_type": "markdown",
   "metadata": {},
   "source": [
    "# Question 4:\n",
    "##   Define the following terms:\n",
    "### 1. Class\n",
    "### 2. Object\n",
    "### 3. Attribute\n",
    "### 4. Behavior"
   ]
  },
  {
   "cell_type": "markdown",
   "metadata": {},
   "source": [
    "### 1. Class\n",
    " A class is a user-defined blueprint or prototype from which objects are created. Classes provide a means of bundling data and functionality together. Creating a new class creates a new type of object, allowing new instances of that type to be made. Each class instance can have attributes attached to it for maintaining its state. Class instances can also have methods (defined by its class) for modifying its state.\n",
    "### 2. Object\n",
    " An object is created using the constructor of the class. This object will then be called the instance of the class. \n",
    "### 3. Attribute\n",
    " A Python class attribute is an attribute of the class (circular, I know), rather than an attribute of an instance of a class. For Java or C++ programmers, the class attribute is similar—but not identical—to the static member.\n",
    "### 4. Behavior\n",
    " It is represented by methods of an object. It also reflects the response of an object with other objects.\n",
    "\n"
   ]
  },
  {
   "cell_type": "markdown",
   "metadata": {},
   "source": [
    "# Question 5:\n",
    "## Write a code in python in which create a class named it Car which have 5 attributes such like (model, color and name etc.) and 3 methods. And create 5 object instance from that class."
   ]
  },
  {
   "cell_type": "code",
   "execution_count": 3,
   "metadata": {},
   "outputs": [
    {
     "name": "stdout",
     "output_type": "stream",
     "text": [
      "Vehicle Type: SUV\n",
      "Make: Audi\n",
      "Model: Q7\n",
      "Color: white\n",
      "Year: 2019\n",
      "Fuel capacity (gallons): 30\n",
      "Vehicle Type: Sport\n",
      "Make: Tesla\n",
      "Model: Model S\n",
      "Color: red\n",
      "Year: 2014\n",
      "Energy Storage (Kwh): 85\n",
      "Vehicle Type: race car\n",
      "Make: Lamborgini\n",
      "Model: Avantador\n",
      "Color: orange\n",
      "Year: 2014\n",
      "Fuel capacity (gallons): 23\n",
      "Horse power: 650\n",
      "Top speed: 160\n",
      "Gear box: manual\n",
      "Drive system: rear wheel\n",
      "Vehicle Type: transport\n",
      "Make: Caterpillar\n",
      "Model: R2\n",
      "Color: yellow\n",
      "Year: 2017\n",
      "Fuel capacity (gallons): 180\n",
      "Maximum load (tons): 3\n",
      "Wheels: 18\n",
      "Length (m): 25\n",
      "Cargo: cement\n"
     ]
    }
   ],
   "source": [
    "class Vehicle(object):\n",
    "\n",
    "    def __init__(self, typ, make, model, color, year):\n",
    "        self.typ = typ\n",
    "        self.make = make\n",
    "        self.model = model\n",
    "        self.color = color.lower()\n",
    "        self.year = year\n",
    "    \n",
    "\n",
    "    def vehicle_print(self):\n",
    "            print('Vehicle Type: ' + str(self.typ))\n",
    "            print('Make: ' + str(self.make))\n",
    "            print('Model: ' + str(self.model))\n",
    "            print('Color: ' + str(self.color))\n",
    "            print('Year: ' + str(self.year))\n",
    "        \n",
    "\n",
    "\n",
    "class GasVehicle(Vehicle):\n",
    "\n",
    "    def __init__(self, fuel_tank, *args):\n",
    "        self.fuel_tank = fuel_tank\n",
    "        Vehicle.__init__(self, *args)\n",
    "\n",
    "    def vehicle_print(self):\n",
    "        Vehicle.vehicle_print(self)\n",
    "        print('Fuel capacity (gallons): ' + str(self.fuel_tank))\n",
    "\n",
    "\n",
    "class ElectricVehicle(Vehicle):\n",
    "\n",
    "    def __init__(self, energy_storage, *args):\n",
    "        self.energy_storage = energy_storage\n",
    "        Vehicle.__init__(self, *args)\n",
    "\n",
    "    def vehicle_print(self):\n",
    "        Vehicle.vehicle_print(self)\n",
    "        print('Energy Storage (Kwh): ' + str(self.energy_storage))\n",
    "\n",
    "\n",
    "class HeavyVehicle(GasVehicle): \n",
    "\n",
    "    def __init__(self, max_weight, wheels, length, *args):\n",
    "        self.max_weight = max_weight\n",
    "        self.wheels = wheels\n",
    "        self.length = length\n",
    "        GasVehicle.__init__(self, *args)\n",
    "\n",
    "    def vehicle_print(self):\n",
    "        GasVehicle.vehicle_print(self)\n",
    "        print('Maximum load (tons): ' + str(self.max_weight))\n",
    "        print('Wheels: ' + str(self.wheels))\n",
    "        print('Length (m): ' + str(self.length))\n",
    "\n",
    "\n",
    "class ConstructionTruck(HeavyVehicle):\n",
    "\n",
    "    def __init__(self, cargo, *args):\n",
    "        self.cargo = cargo\n",
    "        HeavyVehicle.__init__(self, *args)\n",
    "\n",
    "    def vehicle_print(self):\n",
    "        HeavyVehicle.vehicle_print(self)\n",
    "        print('Cargo: ' + str(self.cargo))\n",
    "\n",
    "\n",
    "class Bus(HeavyVehicle):\n",
    "\n",
    "    def __init__(self, seats, * args):\n",
    "        self.seats = seats\n",
    "        HeavyVehicle.__init__(self, *args)\n",
    "\n",
    "    def vehicle_print(self):\n",
    "        HeavyVehicle.vehicle_print(self)\n",
    "        print('Number of seats: ' + str(self.seats))\n",
    "\n",
    "\n",
    "class HighPerformance(GasVehicle): \n",
    "\n",
    "    def __init__(self, hp, top_speed, *args):\n",
    "        self.hp = hp\n",
    "        self.top_speed = top_speed\n",
    "        GasVehicle.__init__(self, *args)\n",
    "\n",
    "    def vehicle_print(self):\n",
    "        GasVehicle.vehicle_print(self)\n",
    "        print('Horse power: ' + str(self.hp))\n",
    "        print('Top speed: ' + str(self.top_speed))\n",
    "\n",
    "\n",
    "class SportCar(HighPerformance):\n",
    "\n",
    "    def __init__(self, gear_box, drive_system, *args):\n",
    "        self.gearbox = gear_box\n",
    "        self.drive_system = drive_system\n",
    "        HighPerformance.__init__(self, *args)\n",
    "\n",
    "    def vehicle_print(self):\n",
    "        HighPerformance.vehicle_print(self)\n",
    "        print('Gear box: ' + self.gearbox)\n",
    "        print('Drive system: ' + self.drive_system)\n",
    "\n",
    "\n",
    "\n",
    "\n",
    "audi = GasVehicle(30, 'SUV', 'Audi', 'Q7', 'white', 2019,)\n",
    "audi.vehicle_print()\n",
    "print\n",
    "tesla = ElectricVehicle(85, 'Sport', 'Tesla', 'Model S', 'red', 2014,)  \n",
    "tesla.vehicle_print()\n",
    "print\n",
    "lambo = SportCar('manual', 'rear wheel', 650, 160, 23, 'race car', 'Lamborgini', 'Avantador', 'orange', 2014,)  \n",
    "lambo.vehicle_print()\n",
    "print\n",
    "truck = ConstructionTruck('cement', 3, 18, 25, 180, 'transport', 'Caterpillar', 'R2', 'yellow', 2017,) \n",
    "truck.vehicle_print()"
   ]
  },
  {
   "cell_type": "code",
   "execution_count": null,
   "metadata": {},
   "outputs": [],
   "source": []
  }
 ],
 "metadata": {
  "kernelspec": {
   "display_name": "Python 3",
   "language": "python",
   "name": "python3"
  },
  "language_info": {
   "codemirror_mode": {
    "name": "ipython",
    "version": 3
   },
   "file_extension": ".py",
   "mimetype": "text/x-python",
   "name": "python",
   "nbconvert_exporter": "python",
   "pygments_lexer": "ipython3",
   "version": "3.7.4"
  }
 },
 "nbformat": 4,
 "nbformat_minor": 2
}
