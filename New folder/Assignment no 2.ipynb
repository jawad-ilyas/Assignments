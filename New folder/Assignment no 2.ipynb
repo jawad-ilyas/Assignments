{
 "cells": [
  {
   "cell_type": "markdown",
   "metadata": {},
   "source": [
    "# 1.Marksheet"
   ]
  },
  {
   "cell_type": "code",
   "execution_count": 1,
   "metadata": {},
   "outputs": [
    {
     "name": "stdout",
     "output_type": "stream",
     "text": [
      "Enter Your Name  :Jawad\n",
      "Enter Your ROLL NUMBER  :13\n",
      "Enter Sindhi Marks  :17\n",
      "Enter English Marks   :21\n",
      "Enter Urdu Marks   :45\n",
      "Enter Math Marks   :56\n",
      "Enter Physics Marks   :6\n",
      "\n",
      "\n",
      "Examination 2019 \t\t\t ROLL NUMBER :    13 \n",
      "\n",
      "\n",
      "Name :  Jawad.\n",
      "\n",
      "\n",
      "*********************** MARKSHEET *****************************\n",
      "_______________________________________________________________\n",
      "|          SUBJECTS           |          MARKS                |\n",
      "|_____________________________|_______________________________|\n",
      "|          Sindhi             |          17/100               |\n",
      "|_____________________________|_______________________________|\n",
      "|          English            |          21/100               |\n",
      "|_____________________________|_______________________________|\n",
      "|          Urdu               |          45/100               |\n",
      "|_____________________________|_______________________________|\n",
      "|          Math               |          56/100               |\n",
      "|_____________________________|_______________________________|\n",
      "|          Physics            |          6/100               |\n",
      "|_____________________________|_______________________________|\n",
      "\n",
      "\n",
      "\t\t\t GRAND TOTAl : 145 \t OUT OF 500\n",
      "\n",
      "\n",
      "\t\t\t\t\t\t GRADE : F Grade \n",
      "\t\t\t\t\t\t PERCENTAGE : 28.999999999999996 \n"
     ]
    }
   ],
   "source": [
    "name = input(\"Enter Your Name  :\")\n",
    "roll_Number = input(\"Enter Your ROLL NUMBER  :\")\n",
    "\n",
    "subj1 = int(input(\"Enter Sindhi Marks  :\"))\n",
    "\n",
    "if subj1<=100 and subj1>=0:\n",
    "    subj2 = int(input(\"Enter English Marks   :\"))\n",
    "    if subj2<=100 and subj2>=0:\n",
    "        subj3=int(input(\"Enter Urdu Marks   :\"))\n",
    "        if subj3<=100 and subj3>0:\n",
    "            subj4=int(input(\"Enter Math Marks   :\"))\n",
    "            if subj4<=100 and subj4>0:\n",
    "                subj5=int(input(\"Enter Physics Marks   :\"))\n",
    "                if subj5<=100 and subj5>0:\n",
    "                    \n",
    "                    Obt = subj1+subj2+subj3+subj4+subj5\n",
    "                    total = 500\n",
    "                    perc = (Obt/total)*100\n",
    "                    \n",
    "                    if perc >=80:\n",
    "                        grade = \"A+ Grade\"\n",
    "    \n",
    "                    elif perc >=70:\n",
    "                        grade =  \"A Grade\"\n",
    "    \n",
    "\n",
    "                    elif perc >=60:\n",
    "                        grade =  \"B Grade\"\n",
    "    \n",
    "    \n",
    "                    elif perc >= 50:\n",
    "                        grade =  \"C Grade\"\n",
    "    \n",
    "    \n",
    "                    else:\n",
    "                        grade =  \"F Grade\"\n",
    "    \n",
    "\n",
    "\n",
    "                    subj1=str(subj1)\n",
    "                    subj2=str(subj2)\n",
    "                    subj3=str(subj3)    \n",
    "                    subj4=str(subj4)\n",
    "                    subj5=str(subj5)\n",
    "                    print(\"\\n\")\n",
    "                    print(\"Examination 2019 \\t\\t\\t ROLL NUMBER :    \"+str(roll_Number)+ \" \")    \n",
    "                    print(\"\\n\")\n",
    "                    print(\"Name :  \"+name+\".\")\n",
    "                    print(\"\\n\")\n",
    "                    print(\"*********************** MARKSHEET *****************************\")\n",
    "\n",
    "                    print(\"_______________________________________________________________\")\n",
    "                    print(\"|          SUBJECTS           |          MARKS                |\")\n",
    "                    print(\"|_____________________________|_______________________________|\")\n",
    "                    print(\"|          Sindhi             |          \"+subj1+\"/100               |\")\n",
    "                    print(\"|_____________________________|_______________________________|\")\n",
    "                    print(\"|          English            |          \"+subj2+\"/100               |\")\n",
    "                    print(\"|_____________________________|_______________________________|\")\n",
    "                    print(\"|          Urdu               |          \"+subj3+\"/100               |\")\n",
    "                    print(\"|_____________________________|_______________________________|\")\n",
    "                    print(\"|          Math               |          \"+subj4+\"/100               |\")\n",
    "                    print(\"|_____________________________|_______________________________|\")\n",
    "                    print(\"|          Physics            |          \"+subj5+\"/100               |\")\n",
    "                    print(\"|_____________________________|_______________________________|\")\n",
    "                    print(\"\\n\")\n",
    "                    print(\"\\t\\t\\t GRAND TOTAl : \"+str(Obt)+\" \\t OUT OF 500\" )\n",
    "                    print('\\n')\n",
    "                    print(\"\\t\\t\\t\\t\\t\\t GRADE : \"+grade+\" \")\n",
    "                    print(\"\\t\\t\\t\\t\\t\\t PERCENTAGE : \"+str(perc)+\" \")\n",
    "                      \n",
    "                    \n",
    "                    \n",
    "                    \n",
    "                    \n",
    "                    \n",
    "                    \n",
    "                else:\n",
    "                    print(\"You Enter greater then 100 or less then 0 value. Please re-enter value\")\n",
    "                    \n",
    "            else:\n",
    "                print(\"You Enter greater then 100 or less then 0 value. Please re-enter value\")\n",
    "        else:\n",
    "            print(\"You Enter greater then 100 or less then 0 value. Please re-enter value\")\n",
    "    else:\n",
    "        print(\"You Enter greater then 100 or less then 0 value. Please re-enter value\")\n",
    "else:\n",
    "    print(\"You Enter greater then 100 or less then 0 value. Please re-enter value\")\n",
    "\n"
   ]
  },
  {
   "cell_type": "markdown",
   "metadata": {},
   "source": [
    "# 2. Write a program which take input from user and identify that the given number is even or odd?"
   ]
  },
  {
   "cell_type": "code",
   "execution_count": 2,
   "metadata": {},
   "outputs": [
    {
     "name": "stdout",
     "output_type": "stream",
     "text": [
      "Enter a number: 5\n",
      "This is an odd number.\n"
     ]
    }
   ],
   "source": [
    "num = int(input(\"Enter a number: \"))\n",
    "modul = num % 2\n",
    "if modul > 0:\n",
    "    print(\"This is an odd number.\")\n",
    "else:\n",
    "    print(\"This is an even number.\")\n",
    "\t"
   ]
  },
  {
   "cell_type": "markdown",
   "metadata": {},
   "source": [
    "# 3. Write a program which print the length of the list?"
   ]
  },
  {
   "cell_type": "code",
   "execution_count": 4,
   "metadata": {},
   "outputs": [
    {
     "name": "stdout",
     "output_type": "stream",
     "text": [
      "The list is: ['apple', 'mango', 'banana']\n",
      "The length of the list is:  3\n"
     ]
    }
   ],
   "source": [
    "list1 = [\"apple\",\"mango\",\"banana\"]\n",
    "print(\"The list is:\",list1)\n",
    "print(\"The length of the list is: \",len(list1))"
   ]
  },
  {
   "cell_type": "markdown",
   "metadata": {},
   "source": [
    "# 4. Write a Python program to sum all the numeric items in a list?"
   ]
  },
  {
   "cell_type": "code",
   "execution_count": 9,
   "metadata": {},
   "outputs": [
    {
     "name": "stdout",
     "output_type": "stream",
     "text": [
      "Sum of list is:  32\n"
     ]
    }
   ],
   "source": [
    "list2 = [1,5,7,10,9]\n",
    "total = sum(list2)\n",
    "print(\"Sum of list is: \",total)"
   ]
  },
  {
   "cell_type": "markdown",
   "metadata": {},
   "source": [
    "# 5. Write a Python program to get the largest number from a numeric list."
   ]
  },
  {
   "cell_type": "code",
   "execution_count": 1,
   "metadata": {},
   "outputs": [
    {
     "name": "stdout",
     "output_type": "stream",
     "text": [
      "Max number is:  12\n"
     ]
    }
   ],
   "source": [
    "list3 = [1,6,9,11,12]\n",
    "maxim = max(list3)\n",
    "print(\"Max number is: \",maxim)"
   ]
  },
  {
   "cell_type": "markdown",
   "metadata": {},
   "source": [
    "# 6.Write a program that prints out all the elements of the list that are less than 5."
   ]
  },
  {
   "cell_type": "code",
   "execution_count": 8,
   "metadata": {},
   "outputs": [
    {
     "name": "stdout",
     "output_type": "stream",
     "text": [
      "[1, 1, 2, 3]\n"
     ]
    }
   ],
   "source": [
    "a = [1, 1, 2, 3, 5, 8, 13, 21, 34, 55, 89]\n",
    "new_list = []\n",
    "for i in a:\n",
    "    if i < 5:\n",
    "        new_list.append(i)\n",
    "print(new_list)"
   ]
  },
  {
   "cell_type": "code",
   "execution_count": null,
   "metadata": {},
   "outputs": [],
   "source": []
  }
 ],
 "metadata": {
  "kernelspec": {
   "display_name": "Python 3",
   "language": "python",
   "name": "python3"
  },
  "language_info": {
   "codemirror_mode": {
    "name": "ipython",
    "version": 3
   },
   "file_extension": ".py",
   "mimetype": "text/x-python",
   "name": "python",
   "nbconvert_exporter": "python",
   "pygments_lexer": "ipython3",
   "version": "3.7.2"
  }
 },
 "nbformat": 4,
 "nbformat_minor": 2
}
